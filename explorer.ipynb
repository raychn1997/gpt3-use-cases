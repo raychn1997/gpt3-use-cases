{
 "cells": [
  {
   "cell_type": "code",
   "execution_count": 27,
   "metadata": {
    "collapsed": true
   },
   "outputs": [],
   "source": [
    "from utility.helper import apikey"
   ]
  },
  {
   "cell_type": "code",
   "execution_count": 28,
   "outputs": [
    {
     "data": {
      "text/plain": "<OpenAIObject list at 0x7fbe19d9a450> JSON: {\n  \"data\": [\n    {\n      \"created\": null,\n      \"id\": \"ada\",\n      \"max_replicas\": null,\n      \"object\": \"engine\",\n      \"owner\": \"openai\",\n      \"permissions\": null,\n      \"ready\": true,\n      \"ready_replicas\": null,\n      \"replicas\": null\n    },\n    {\n      \"created\": null,\n      \"id\": \"babbage\",\n      \"max_replicas\": null,\n      \"object\": \"engine\",\n      \"owner\": \"openai\",\n      \"permissions\": null,\n      \"ready\": true,\n      \"ready_replicas\": null,\n      \"replicas\": null\n    },\n    {\n      \"created\": null,\n      \"id\": \"content-filter-alpha\",\n      \"max_replicas\": null,\n      \"object\": \"engine\",\n      \"owner\": \"openai\",\n      \"permissions\": null,\n      \"ready\": true,\n      \"ready_replicas\": null,\n      \"replicas\": null\n    },\n    {\n      \"created\": null,\n      \"id\": \"curie\",\n      \"max_replicas\": null,\n      \"object\": \"engine\",\n      \"owner\": \"openai\",\n      \"permissions\": null,\n      \"ready\": true,\n      \"ready_replicas\": null,\n      \"replicas\": null\n    },\n    {\n      \"created\": null,\n      \"id\": \"curie-instruct-beta\",\n      \"max_replicas\": null,\n      \"object\": \"engine\",\n      \"owner\": \"openai\",\n      \"permissions\": null,\n      \"ready\": true,\n      \"ready_replicas\": null,\n      \"replicas\": null\n    },\n    {\n      \"created\": null,\n      \"id\": \"davinci\",\n      \"max_replicas\": null,\n      \"object\": \"engine\",\n      \"owner\": \"openai\",\n      \"permissions\": null,\n      \"ready\": true,\n      \"ready_replicas\": null,\n      \"replicas\": null\n    },\n    {\n      \"created\": null,\n      \"id\": \"davinci-instruct-beta\",\n      \"max_replicas\": null,\n      \"object\": \"engine\",\n      \"owner\": \"openai\",\n      \"permissions\": null,\n      \"ready\": true,\n      \"ready_replicas\": null,\n      \"replicas\": null\n    }\n  ],\n  \"object\": \"list\"\n}"
     },
     "execution_count": 28,
     "metadata": {},
     "output_type": "execute_result"
    }
   ],
   "source": [
    "import os\n",
    "import openai\n",
    "openai.api_key = apikey\n",
    "openai.Engine.list()"
   ],
   "metadata": {
    "collapsed": false,
    "pycharm": {
     "name": "#%%\n"
    }
   }
  },
  {
   "cell_type": "code",
   "execution_count": 38,
   "outputs": [],
   "source": [],
   "metadata": {
    "collapsed": false,
    "pycharm": {
     "name": "#%%\n"
    }
   }
  },
  {
   "cell_type": "code",
   "execution_count": 86,
   "outputs": [
    {
     "name": "stdout",
     "output_type": "stream",
     "text": [
      "\n",
      "Review 1\n",
      "Very fast, very capable, great screen.\n",
      "\n",
      "Coming from a 3rd gen iPad Pro 12.9”, this is not as big of an improvement as I thought it would be.\n",
      "\n",
      "Yes, this is faster but unless you’re a pro or gamer, you probably won’t notice a big difference from the chips a few years ago.\n",
      "\n",
      "The picture, taken on my iPhone XS max, shows a comparison between the 3rd gen iPad Pro 12.9 from 2018 (right) and the new one (left). As you can see in the picture, the contrast ratio is much better on the new, 5th gen iPad Pro 12.9. It’s a little hard to capture on the iPhone but the colors and look of HDR content is excellent.\n",
      "\n",
      "What Apple doesn’t tell you about is the bloom around text and controls on dark screens. It is not quite as bad as this picture makes it appear but it is still quite annoying. Personally, I find the lack of contrast in the older screen more annoying than the bloom in the new one, so I’ll stick with a new one.\n",
      "\n",
      "The other thing that Apple doesn’t tell you is that this new iPad is heavier than the old one by about 50g. It’s not a dealbreaker but it is noticeable.\n",
      "\n",
      "I would say this is definitely an improvement but had I known what I do now, I would’ve just kept my old one for another year or two.\n",
      "\n",
      "I took off two stars because I mainly updated for the screen and Apple really wasn’t honest about light bloom levels. This is really an excellent device; I just don’t like false advertising and expected better.\n",
      "#########\n",
      "Review 2\n",
      "The 2021 iPad Pro 12.9\" with M1 is the premier tablet on the market. Smooth, fast, and beautiful.\n",
      "\n",
      "Apple made a few changes to the 2021 iPad Pro 12.9\", most notably the inclusion of the M1 chip and the gorgeous XDR display. The M1 chip is a nice addition, but right now, it still feels like overkill. I switched to the M1 MacBook Pro in 2020 and the improvements were astounding. Those improvements don't really seem to have quite the same impact on the iPad, and that's mostly because it's still a victim to iPadOS. I don't imagine that Apple has any plans on allowing its iPads to run MacOS, due to cannibalization of the MacBook market, but iPadOS has its limitations. I do not think the iPad is ready to replace your laptop quite yet, but the power is there to do so. Apps do tend to pick back up where you left them off more quickly than in previous gens.\n",
      "\n",
      "The XDR display, overall, is pretty gorgeous. Streaming movies, TV shows, YouTube, etc. is really something else. It is a pretty nice and noticeable upgrade over the previous gen. With that said, the XDR display does also suffer from some moderate blooming effects, most notably when you have a bright white image or text displaying against deep black background. It's not terrible, but it is something to be aware of.\n",
      "\n",
      "The battery life is essentially identical to previous generations, and Apple reflects that in its specs. What additional battery life that might have been gained with the M1 chip was probably immediately sucked away with the inclusion of the XDR display. Battery life is totally fine, it's just not better.\n",
      "\n",
      "Is it worth upgrading? If your iPad is at the end of its life or you just really, really want the top-of-the-line tablet on the market, sure, it's a great option. If you have a previous gen iPad Pro and you're perfectly happy with the quality of the display, it probably isn't worth upgrading. At least not until they bring MacOS to the iPad...\n",
      "#########\n",
      "Review 3\n",
      "Disappointed, I heard some people mentioning the XDR display had some blooming. In use it’s not acceptable. I have a iPhone 12 Pro Max and 2020 iPad Pro 12.9 for work and wanted to replace my MacBook Pro at home with another 12.9 iPad Pro, and. This display is junk, the chip is super snappy. Back to the drawing board Apple.\n",
      "#########\n",
      "Please summarize the pros and cons for the product above\n"
     ]
    }
   ],
   "source": [
    "separator = '#########'\n",
    "newline = '\\n'\n",
    "instruction = 'Please summarize the pros and cons for the product above:'\n",
    "prompt = examples + separator + newline + instruction\n",
    "\n",
    "print(prompt)"
   ],
   "metadata": {
    "collapsed": false,
    "pycharm": {
     "name": "#%%\n"
    }
   }
  },
  {
   "cell_type": "code",
   "execution_count": 87,
   "outputs": [],
   "source": [
    "\n",
    "completion = openai.Completion.create(engine='davinci-instruct-beta',\n",
    "                                      temperature=0.7,\n",
    "                                      prompt=prompt,\n",
    "                                      max_tokens=300)\n"
   ],
   "metadata": {
    "collapsed": false,
    "pycharm": {
     "name": "#%%\n"
    }
   }
  },
  {
   "cell_type": "code",
   "execution_count": 88,
   "outputs": [
    {
     "name": "stdout",
     "output_type": "stream",
     "text": [
      ".\n",
      "\n",
      "Pros:\n",
      "\n",
      "- Super fast\n",
      "- Screen is better\n",
      "- Ability to play 4K HDR video\n",
      "\n",
      "Cons:\n",
      "\n",
      "- The screen has some light blooming around certain colors\n",
      "- The new iPad is heavier than the old one by about 50g\n"
     ]
    }
   ],
   "source": [
    "# print the completion\n",
    "print(completion['choices'][0]['text'])"
   ],
   "metadata": {
    "collapsed": false,
    "pycharm": {
     "name": "#%%\n"
    }
   }
  },
  {
   "cell_type": "code",
   "execution_count": 88,
   "outputs": [],
   "source": [],
   "metadata": {
    "collapsed": false,
    "pycharm": {
     "name": "#%%\n"
    }
   }
  }
 ],
 "metadata": {
  "kernelspec": {
   "display_name": "Python 3",
   "language": "python",
   "name": "python3"
  },
  "language_info": {
   "codemirror_mode": {
    "name": "ipython",
    "version": 2
   },
   "file_extension": ".py",
   "mimetype": "text/x-python",
   "name": "python",
   "nbconvert_exporter": "python",
   "pygments_lexer": "ipython2",
   "version": "2.7.6"
  }
 },
 "nbformat": 4,
 "nbformat_minor": 0
}